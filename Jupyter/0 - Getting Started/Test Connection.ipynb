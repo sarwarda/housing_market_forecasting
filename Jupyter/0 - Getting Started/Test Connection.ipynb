{
 "cells": [
  {
   "cell_type": "markdown",
   "id": "7b7ff366-c527-4624-9785-140a1a10e706",
   "metadata": {},
   "source": [
    "# Test Connection to Database\n",
    "\n",
    "The purpose of this notebook is to test the connection to the MySQL database. The process to obtain the data and create the mentioned database is outlined in `ReadMe_Data` in the MySQL folder for this project. "
   ]
  },
  {
   "cell_type": "code",
   "execution_count": 1,
   "id": "6d39043f-3985-4827-8149-217cbf6d7cf7",
   "metadata": {},
   "outputs": [],
   "source": [
    "import pymysql"
   ]
  },
  {
   "cell_type": "code",
   "execution_count": 2,
   "id": "afb9c11c-cc6f-4525-9bf0-29ea1ab58403",
   "metadata": {},
   "outputs": [],
   "source": [
    "conn = pymysql.connect(\n",
    "    host= 'MySQL_1',\n",
    "    port=3306,\n",
    "    user=\"Sarah\",\n",
    "    passwd='password',\n",
    "    db=\"db\",\n",
    "    charset='utf8mb4')"
   ]
  },
  {
   "cell_type": "code",
   "execution_count": 3,
   "id": "0388ed2d-e09e-4c0e-996f-0ea8471464e9",
   "metadata": {},
   "outputs": [],
   "source": [
    "curs = conn.cursor()"
   ]
  },
  {
   "cell_type": "code",
   "execution_count": 4,
   "id": "f40f3fbc-c614-4177-a97f-c0f5de6ed9f7",
   "metadata": {},
   "outputs": [
    {
     "name": "stdout",
     "output_type": "stream",
     "text": [
      "('County',)\n",
      "('National',)\n",
      "('Query_results',)\n",
      "('State',)\n"
     ]
    }
   ],
   "source": [
    "curs.execute(\"Show tables;\")\n",
    " \n",
    "result = curs.fetchall()\n",
    " \n",
    "for x in result:\n",
    "    print(x)"
   ]
  },
  {
   "cell_type": "markdown",
   "id": "38acd4be-78ac-4da1-af8d-c957cf2e17a6",
   "metadata": {},
   "source": [
    "The connection is successful and the expected table names were printed. "
   ]
  }
 ],
 "metadata": {
  "kernelspec": {
   "display_name": "Python 3 (ipykernel)",
   "language": "python",
   "name": "python3"
  },
  "language_info": {
   "codemirror_mode": {
    "name": "ipython",
    "version": 3
   },
   "file_extension": ".py",
   "mimetype": "text/x-python",
   "name": "python",
   "nbconvert_exporter": "python",
   "pygments_lexer": "ipython3",
   "version": "3.10.6"
  },
  "vscode": {
   "interpreter": {
    "hash": "d4d1e4263499bec80672ea0156c357c1ee493ec2b1c70f0acce89fc37c4a6abe"
   }
  }
 },
 "nbformat": 4,
 "nbformat_minor": 5
}
