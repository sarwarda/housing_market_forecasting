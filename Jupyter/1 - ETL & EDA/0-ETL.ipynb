{
 "cells": [
  {
   "cell_type": "markdown",
   "id": "323deb91-b910-4fb8-8c18-1df84d0746f4",
   "metadata": {
    "pycharm": {
     "name": "#%% md\n"
    }
   },
   "source": [
    "# Extract, Transform, Load (ETL)\n",
    "\n",
    "\n",
    "As described in the Green Cloud Model, we will begin with the **ASK** and **GET** step. For **ASK**, we want to determine a forecasting model to project the housing market, which can be analyzed on a national, state, or county level. In order to do so, we will complete the **GET** step and use the Redfin Housing Market Data, which is thoroughly discussed and cited in `ReadMe_Data` in the MySQL folder for this project. A MySQL database was created with this data, where the necessary sql files can be found in the `MySQL` folder for this project, and a series of basic queries were written to get a better sense of the data. The results from the queries are stored in the table `Query_results`. This covers most of the necessary ETL we need. \n",
    "\n",
    "Next, we will connect to the database in Jupyter and look at any basic information related to the data set to check for null values and confirm that the data can be used for Exploratory Data Analysis (EDA) and building the forecasting model. "
   ]
  },
  {
   "cell_type": "code",
   "execution_count": 1,
   "id": "8c76e90c-ec34-41a9-8cd1-2e38ca81ca50",
   "metadata": {
    "pycharm": {
     "is_executing": true,
     "name": "#%%\n"
    }
   },
   "outputs": [],
   "source": [
    "import pymysql\n",
    "import pandas as pd"
   ]
  },
  {
   "cell_type": "code",
   "execution_count": 2,
   "id": "ef2bec64-41ab-4f6c-b549-de0517dd7c02",
   "metadata": {
    "pycharm": {
     "name": "#%%\n"
    }
   },
   "outputs": [],
   "source": [
    "pd.options.display.max_colwidth = 500"
   ]
  },
  {
   "cell_type": "code",
   "execution_count": 3,
   "id": "8711858f-18a4-4519-85d9-39a54271a960",
   "metadata": {
    "pycharm": {
     "name": "#%%\n"
    }
   },
   "outputs": [],
   "source": [
    "conn = pymysql.connect(\n",
    "    host= 'MySQL_1',\n",
    "    port=3306,\n",
    "    user=\"Sarah\",\n",
    "    passwd='password',\n",
    "    db=\"db\",\n",
    "    charset='utf8mb4')"
   ]
  },
  {
   "cell_type": "code",
   "execution_count": 4,
   "id": "337e32cf-1be6-4c63-ba7d-47d7d2e56372",
   "metadata": {
    "pycharm": {
     "name": "#%%\n"
    }
   },
   "outputs": [],
   "source": [
    "curs = conn.cursor()"
   ]
  },
  {
   "cell_type": "code",
   "execution_count": 5,
   "id": "d806d256-acfc-4b57-b353-a51db20350f1",
   "metadata": {
    "pycharm": {
     "name": "#%%\n"
    }
   },
   "outputs": [
    {
     "data": {
      "text/html": [
       "<div>\n",
       "<style scoped>\n",
       "    .dataframe tbody tr th:only-of-type {\n",
       "        vertical-align: middle;\n",
       "    }\n",
       "\n",
       "    .dataframe tbody tr th {\n",
       "        vertical-align: top;\n",
       "    }\n",
       "\n",
       "    .dataframe thead th {\n",
       "        text-align: right;\n",
       "    }\n",
       "</style>\n",
       "<table border=\"1\" class=\"dataframe\">\n",
       "  <thead>\n",
       "    <tr style=\"text-align: right;\">\n",
       "      <th></th>\n",
       "      <th>0</th>\n",
       "    </tr>\n",
       "  </thead>\n",
       "  <tbody>\n",
       "    <tr>\n",
       "      <th>0</th>\n",
       "      <td>County</td>\n",
       "    </tr>\n",
       "    <tr>\n",
       "      <th>1</th>\n",
       "      <td>National</td>\n",
       "    </tr>\n",
       "    <tr>\n",
       "      <th>2</th>\n",
       "      <td>Query_results</td>\n",
       "    </tr>\n",
       "    <tr>\n",
       "      <th>3</th>\n",
       "      <td>State</td>\n",
       "    </tr>\n",
       "  </tbody>\n",
       "</table>\n",
       "</div>"
      ],
      "text/plain": [
       "               0\n",
       "0         County\n",
       "1       National\n",
       "2  Query_results\n",
       "3          State"
      ]
     },
     "execution_count": 5,
     "metadata": {},
     "output_type": "execute_result"
    }
   ],
   "source": [
    "curs.execute(\"Show tables;\")\n",
    " \n",
    "result = pd.DataFrame(curs.fetchall())\n",
    " \n",
    "result"
   ]
  },
  {
   "cell_type": "markdown",
   "id": "5635db66-396f-47cf-854c-938cedd4bd0e",
   "metadata": {
    "pycharm": {
     "name": "#%% md\n"
    }
   },
   "source": [
    "The connection is successful and the expected table names were printed. Let's look at the basic information for National, State, and County tables:"
   ]
  },
  {
   "cell_type": "code",
   "execution_count": 6,
   "id": "4ee72d4e-8b1b-4d76-8f9d-bb0d3559c765",
   "metadata": {
    "pycharm": {
     "name": "#%%\n"
    }
   },
   "outputs": [
    {
     "name": "stdout",
     "output_type": "stream",
     "text": [
      "<class 'pandas.core.frame.DataFrame'>\n",
      "RangeIndex: 1364 entries, 0 to 1363\n",
      "Data columns (total 59 columns):\n",
      " #   Column                          Non-Null Count  Dtype  \n",
      "---  ------                          --------------  -----  \n",
      " 0   id                              1364 non-null   int64  \n",
      " 1   period_begin                    1364 non-null   object \n",
      " 2   period_end                      1364 non-null   object \n",
      " 3   period_duration                 1364 non-null   int64  \n",
      " 4   region_type                     1364 non-null   object \n",
      " 5   region_type_id                  1364 non-null   int64  \n",
      " 6   table_id                        1364 non-null   int64  \n",
      " 7   is_seasonally_adjusted          1364 non-null   object \n",
      " 8   region                          1364 non-null   object \n",
      " 9   city                            1364 non-null   object \n",
      " 10  state                           1364 non-null   object \n",
      " 11  state_code                      1364 non-null   object \n",
      " 12  property_type                   1364 non-null   object \n",
      " 13  property_type_id                1364 non-null   int64  \n",
      " 14  median_sale_price               1364 non-null   float64\n",
      " 15  median_sale_price_mom           1364 non-null   float64\n",
      " 16  median_sale_price_yoy           1364 non-null   float64\n",
      " 17  median_list_price               1364 non-null   float64\n",
      " 18  median_list_price_mom           1364 non-null   float64\n",
      " 19  median_list_price_yoy           1364 non-null   float64\n",
      " 20  median_ppsf                     1364 non-null   float64\n",
      " 21  median_ppsf_mom                 1364 non-null   float64\n",
      " 22  median_ppsf_yoy                 1364 non-null   float64\n",
      " 23  median_list_ppsf                1364 non-null   float64\n",
      " 24  median_list_ppsf_mom            1364 non-null   float64\n",
      " 25  median_list_ppsf_yoy            1364 non-null   float64\n",
      " 26  homes_sold                      1364 non-null   float64\n",
      " 27  homes_sold_mom                  1364 non-null   float64\n",
      " 28  homes_sold_yoy                  1364 non-null   float64\n",
      " 29  pending_sales                   1364 non-null   float64\n",
      " 30  pending_sales_mom               1364 non-null   float64\n",
      " 31  pending_sales_yoy               1364 non-null   float64\n",
      " 32  new_listings                    1364 non-null   float64\n",
      " 33  new_listings_mom                1364 non-null   float64\n",
      " 34  new_listings_yoy                1364 non-null   float64\n",
      " 35  inventory                       1364 non-null   int64  \n",
      " 36  inventory_mom                   1364 non-null   float64\n",
      " 37  inventory_yoy                   1364 non-null   float64\n",
      " 38  months_of_supply                1364 non-null   float64\n",
      " 39  months_of_supply_mom            1364 non-null   float64\n",
      " 40  months_of_supply_yoy            1364 non-null   float64\n",
      " 41  median_dom                      1364 non-null   float64\n",
      " 42  median_dom_mom                  1364 non-null   float64\n",
      " 43  median_dom_yoy                  1364 non-null   float64\n",
      " 44  avg_sale_to_list                1364 non-null   float64\n",
      " 45  avg_sale_to_list_mom            1364 non-null   float64\n",
      " 46  avg_sale_to_list_yoy            1364 non-null   float64\n",
      " 47  sold_above_list                 1364 non-null   float64\n",
      " 48  sold_above_list_mom             1364 non-null   float64\n",
      " 49  sold_above_list_yoy             1364 non-null   float64\n",
      " 50  price_drops                     1364 non-null   float64\n",
      " 51  price_drops_mom                 1364 non-null   float64\n",
      " 52  price_drops_yoy                 1364 non-null   float64\n",
      " 53  off_market_in_two_weeks         1364 non-null   float64\n",
      " 54  off_market_in_two_weeks_mom     1364 non-null   float64\n",
      " 55  off_market_in_two_weeks_yoy     1364 non-null   float64\n",
      " 56  parent_metro_region             1364 non-null   float64\n",
      " 57  parent_metro_region_metro_code  1364 non-null   float64\n",
      " 58  last_updated                    1364 non-null   object \n",
      "dtypes: float64(43), int64(6), object(10)\n",
      "memory usage: 628.8+ KB\n"
     ]
    }
   ],
   "source": [
    "curs.execute(\"SHOW columns FROM National\")\n",
    "national_headers = [column[0] for column in curs.fetchall()]\n",
    "\n",
    "curs.execute(\"SELECT * FROM National\")\n",
    "national = pd.DataFrame(curs.fetchall(), columns=national_headers)\n",
    "\n",
    "national.info()"
   ]
  },
  {
   "cell_type": "code",
   "execution_count": 7,
   "id": "4a017789-5a00-43b9-8bcf-19f9eda7fac0",
   "metadata": {
    "pycharm": {
     "name": "#%%\n"
    }
   },
   "outputs": [
    {
     "name": "stdout",
     "output_type": "stream",
     "text": [
      "<class 'pandas.core.frame.DataFrame'>\n",
      "RangeIndex: 28739 entries, 0 to 28738\n",
      "Data columns (total 59 columns):\n",
      " #   Column                          Non-Null Count  Dtype  \n",
      "---  ------                          --------------  -----  \n",
      " 0   id                              28739 non-null  int64  \n",
      " 1   period_begin                    28739 non-null  object \n",
      " 2   period_end                      28739 non-null  object \n",
      " 3   period_duration                 28739 non-null  int64  \n",
      " 4   region_type                     28739 non-null  object \n",
      " 5   region_type_id                  28739 non-null  int64  \n",
      " 6   table_id                        28739 non-null  int64  \n",
      " 7   is_seasonally_adjusted          28739 non-null  object \n",
      " 8   region                          28739 non-null  object \n",
      " 9   city                            28739 non-null  object \n",
      " 10  state                           28739 non-null  object \n",
      " 11  state_code                      28739 non-null  object \n",
      " 12  property_type                   28739 non-null  object \n",
      " 13  property_type_id                28739 non-null  int64  \n",
      " 14  median_sale_price               28739 non-null  float64\n",
      " 15  median_sale_price_mom           28739 non-null  float64\n",
      " 16  median_sale_price_yoy           28739 non-null  float64\n",
      " 17  median_list_price               28739 non-null  float64\n",
      " 18  median_list_price_mom           28739 non-null  float64\n",
      " 19  median_list_price_yoy           28739 non-null  float64\n",
      " 20  median_ppsf                     28739 non-null  float64\n",
      " 21  median_ppsf_mom                 28739 non-null  float64\n",
      " 22  median_ppsf_yoy                 28739 non-null  float64\n",
      " 23  median_list_ppsf                28739 non-null  float64\n",
      " 24  median_list_ppsf_mom            28739 non-null  float64\n",
      " 25  median_list_ppsf_yoy            28739 non-null  float64\n",
      " 26  homes_sold                      28739 non-null  float64\n",
      " 27  homes_sold_mom                  28739 non-null  float64\n",
      " 28  homes_sold_yoy                  28739 non-null  float64\n",
      " 29  pending_sales                   28739 non-null  float64\n",
      " 30  pending_sales_mom               28739 non-null  float64\n",
      " 31  pending_sales_yoy               28739 non-null  float64\n",
      " 32  new_listings                    28739 non-null  float64\n",
      " 33  new_listings_mom                28739 non-null  float64\n",
      " 34  new_listings_yoy                28739 non-null  float64\n",
      " 35  inventory                       28739 non-null  int64  \n",
      " 36  inventory_mom                   28739 non-null  float64\n",
      " 37  inventory_yoy                   28739 non-null  float64\n",
      " 38  months_of_supply                28739 non-null  float64\n",
      " 39  months_of_supply_mom            28739 non-null  float64\n",
      " 40  months_of_supply_yoy            28739 non-null  float64\n",
      " 41  median_dom                      28739 non-null  float64\n",
      " 42  median_dom_mom                  28739 non-null  float64\n",
      " 43  median_dom_yoy                  28739 non-null  float64\n",
      " 44  avg_sale_to_list                28739 non-null  float64\n",
      " 45  avg_sale_to_list_mom            28739 non-null  float64\n",
      " 46  avg_sale_to_list_yoy            28739 non-null  float64\n",
      " 47  sold_above_list                 28739 non-null  float64\n",
      " 48  sold_above_list_mom             28739 non-null  float64\n",
      " 49  sold_above_list_yoy             28739 non-null  float64\n",
      " 50  price_drops                     28739 non-null  float64\n",
      " 51  price_drops_mom                 28739 non-null  float64\n",
      " 52  price_drops_yoy                 28739 non-null  float64\n",
      " 53  off_market_in_two_weeks         28739 non-null  float64\n",
      " 54  off_market_in_two_weeks_mom     28739 non-null  float64\n",
      " 55  off_market_in_two_weeks_yoy     28739 non-null  float64\n",
      " 56  parent_metro_region             28739 non-null  float64\n",
      " 57  parent_metro_region_metro_code  28739 non-null  float64\n",
      " 58  last_updated                    28739 non-null  object \n",
      "dtypes: float64(43), int64(6), object(10)\n",
      "memory usage: 12.9+ MB\n"
     ]
    }
   ],
   "source": [
    "curs.execute(\"SHOW columns FROM State\")\n",
    "state_headers = [column[0] for column in curs.fetchall()]\n",
    "\n",
    "curs.execute(\"SELECT * FROM State\")\n",
    "state = pd.DataFrame(curs.fetchall(), columns=state_headers)\n",
    "\n",
    "state.info()"
   ]
  },
  {
   "cell_type": "code",
   "execution_count": 8,
   "id": "fe8d2ef8-75b8-46cb-8ed5-0941e1096aca",
   "metadata": {
    "pycharm": {
     "name": "#%%\n"
    }
   },
   "outputs": [
    {
     "name": "stdout",
     "output_type": "stream",
     "text": [
      "<class 'pandas.core.frame.DataFrame'>\n",
      "RangeIndex: 640957 entries, 0 to 640956\n",
      "Data columns (total 59 columns):\n",
      " #   Column                          Non-Null Count   Dtype  \n",
      "---  ------                          --------------   -----  \n",
      " 0   id                              640957 non-null  int64  \n",
      " 1   period_begin                    640957 non-null  object \n",
      " 2   period_end                      640957 non-null  object \n",
      " 3   period_duration                 640957 non-null  int64  \n",
      " 4   region_type                     640957 non-null  object \n",
      " 5   region_type_id                  640957 non-null  int64  \n",
      " 6   table_id                        640957 non-null  int64  \n",
      " 7   is_seasonally_adjusted          640957 non-null  object \n",
      " 8   region                          640957 non-null  object \n",
      " 9   city                            640957 non-null  object \n",
      " 10  state                           640957 non-null  object \n",
      " 11  state_code                      640957 non-null  object \n",
      " 12  property_type                   640957 non-null  object \n",
      " 13  property_type_id                640957 non-null  int64  \n",
      " 14  median_sale_price               640957 non-null  float64\n",
      " 15  median_sale_price_mom           640957 non-null  float64\n",
      " 16  median_sale_price_yoy           640957 non-null  float64\n",
      " 17  median_list_price               640957 non-null  float64\n",
      " 18  median_list_price_mom           640957 non-null  float64\n",
      " 19  median_list_price_yoy           640957 non-null  float64\n",
      " 20  median_ppsf                     640957 non-null  float64\n",
      " 21  median_ppsf_mom                 640957 non-null  float64\n",
      " 22  median_ppsf_yoy                 640957 non-null  float64\n",
      " 23  median_list_ppsf                640957 non-null  float64\n",
      " 24  median_list_ppsf_mom            640957 non-null  float64\n",
      " 25  median_list_ppsf_yoy            640957 non-null  float64\n",
      " 26  homes_sold                      640957 non-null  float64\n",
      " 27  homes_sold_mom                  640957 non-null  float64\n",
      " 28  homes_sold_yoy                  640957 non-null  float64\n",
      " 29  pending_sales                   640957 non-null  float64\n",
      " 30  pending_sales_mom               640957 non-null  float64\n",
      " 31  pending_sales_yoy               640957 non-null  float64\n",
      " 32  new_listings                    640957 non-null  float64\n",
      " 33  new_listings_mom                640957 non-null  float64\n",
      " 34  new_listings_yoy                640957 non-null  float64\n",
      " 35  inventory                       640957 non-null  int64  \n",
      " 36  inventory_mom                   640957 non-null  float64\n",
      " 37  inventory_yoy                   640957 non-null  float64\n",
      " 38  months_of_supply                640957 non-null  float64\n",
      " 39  months_of_supply_mom            640957 non-null  float64\n",
      " 40  months_of_supply_yoy            640957 non-null  float64\n",
      " 41  median_dom                      640957 non-null  float64\n",
      " 42  median_dom_mom                  640957 non-null  float64\n",
      " 43  median_dom_yoy                  640957 non-null  float64\n",
      " 44  avg_sale_to_list                640957 non-null  float64\n",
      " 45  avg_sale_to_list_mom            640957 non-null  float64\n",
      " 46  avg_sale_to_list_yoy            640957 non-null  float64\n",
      " 47  sold_above_list                 640957 non-null  float64\n",
      " 48  sold_above_list_mom             640957 non-null  float64\n",
      " 49  sold_above_list_yoy             640957 non-null  float64\n",
      " 50  price_drops                     640957 non-null  float64\n",
      " 51  price_drops_mom                 640957 non-null  float64\n",
      " 52  price_drops_yoy                 640957 non-null  float64\n",
      " 53  off_market_in_two_weeks         640957 non-null  float64\n",
      " 54  off_market_in_two_weeks_mom     640957 non-null  float64\n",
      " 55  off_market_in_two_weeks_yoy     640957 non-null  float64\n",
      " 56  parent_metro_region             640957 non-null  float64\n",
      " 57  parent_metro_region_metro_code  640957 non-null  float64\n",
      " 58  last_updated                    640957 non-null  object \n",
      "dtypes: float64(43), int64(6), object(10)\n",
      "memory usage: 288.5+ MB\n"
     ]
    }
   ],
   "source": [
    "curs.execute(\"SHOW columns FROM County\")\n",
    "county_headers = [column[0] for column in curs.fetchall()]\n",
    "\n",
    "curs.execute(\"SELECT * FROM County\")\n",
    "county = pd.DataFrame(curs.fetchall(), columns=county_headers)\n",
    "\n",
    "county.info()"
   ]
  },
  {
   "cell_type": "markdown",
   "id": "41116282-19be-4816-82f4-e1683d4b755f",
   "metadata": {
    "pycharm": {
     "name": "#%% md\n"
    }
   },
   "source": [
    "We do not have any null values for areas of concern when loading the data. We can also try looking at some of the query results as follows:"
   ]
  },
  {
   "cell_type": "code",
   "execution_count": 11,
   "id": "4446fc1f-9dd3-4393-a0f2-da00641a208f",
   "metadata": {
    "pycharm": {
     "name": "#%%\n"
    }
   },
   "outputs": [
    {
     "data": {
      "text/html": [
       "<div>\n",
       "<style scoped>\n",
       "    .dataframe tbody tr th:only-of-type {\n",
       "        vertical-align: middle;\n",
       "    }\n",
       "\n",
       "    .dataframe tbody tr th {\n",
       "        vertical-align: top;\n",
       "    }\n",
       "\n",
       "    .dataframe thead th {\n",
       "        text-align: right;\n",
       "    }\n",
       "</style>\n",
       "<table border=\"1\" class=\"dataframe\">\n",
       "  <thead>\n",
       "    <tr style=\"text-align: right;\">\n",
       "      <th></th>\n",
       "      <th>query_id</th>\n",
       "      <th>table_id</th>\n",
       "      <th>query</th>\n",
       "      <th>result</th>\n",
       "      <th>result_alternative</th>\n",
       "      <th>comments</th>\n",
       "    </tr>\n",
       "  </thead>\n",
       "  <tbody>\n",
       "    <tr>\n",
       "      <th>0</th>\n",
       "      <td>1</td>\n",
       "      <td>State</td>\n",
       "      <td>State with the highest median home sale overall</td>\n",
       "      <td>Columbia, 606740.8064516129</td>\n",
       "      <td>Connecticut, 2920000</td>\n",
       "      <td>Result uses average median sales overall and finds the max average,\\n                   result alternative uses the max median without any averaging</td>\n",
       "    </tr>\n",
       "    <tr>\n",
       "      <th>1</th>\n",
       "      <td>2</td>\n",
       "      <td>State</td>\n",
       "      <td>State with the highest median home sale in 2022</td>\n",
       "      <td>Hawaii, 845585</td>\n",
       "      <td>Hawaii, 1746100</td>\n",
       "      <td>Result uses average median sales overall and finds the max average,\\n                  result alternative uses the max median without any averaging</td>\n",
       "    </tr>\n",
       "    <tr>\n",
       "      <th>2</th>\n",
       "      <td>3</td>\n",
       "      <td>State</td>\n",
       "      <td>State with the lowest median home sale overall</td>\n",
       "      <td>Ohio, 134618.38709677418</td>\n",
       "      <td>Oklahoma, 240900</td>\n",
       "      <td>Result uses average median sales overall and finds the min average,\\n                  result alternative uses the min median without any averaging</td>\n",
       "    </tr>\n",
       "    <tr>\n",
       "      <th>3</th>\n",
       "      <td>4</td>\n",
       "      <td>State</td>\n",
       "      <td>State with the lowest median home sale in 2022</td>\n",
       "      <td>Oklahoma, 190350</td>\n",
       "      <td>Oklahoma, 240900</td>\n",
       "      <td>Result uses average median sales overall and finds the min average,\\n                  result alternative uses the min median without any averaging</td>\n",
       "    </tr>\n",
       "    <tr>\n",
       "      <th>4</th>\n",
       "      <td>5</td>\n",
       "      <td>State</td>\n",
       "      <td>State with the greatest inventory overall</td>\n",
       "      <td>Florida, 47378.4484</td>\n",
       "      <td>Florida, 150738</td>\n",
       "      <td>Result uses average inventory overall for each state and finds the max average,\\n                   result alternative uses the max overall without any averaging</td>\n",
       "    </tr>\n",
       "  </tbody>\n",
       "</table>\n",
       "</div>"
      ],
      "text/plain": [
       "   query_id table_id                                            query  \\\n",
       "0         1    State  State with the highest median home sale overall   \n",
       "1         2    State  State with the highest median home sale in 2022   \n",
       "2         3    State   State with the lowest median home sale overall   \n",
       "3         4    State   State with the lowest median home sale in 2022   \n",
       "4         5    State        State with the greatest inventory overall   \n",
       "\n",
       "                        result    result_alternative  \\\n",
       "0  Columbia, 606740.8064516129  Connecticut, 2920000   \n",
       "1               Hawaii, 845585       Hawaii, 1746100   \n",
       "2     Ohio, 134618.38709677418      Oklahoma, 240900   \n",
       "3             Oklahoma, 190350      Oklahoma, 240900   \n",
       "4          Florida, 47378.4484       Florida, 150738   \n",
       "\n",
       "                                                                                                                                                            comments  \n",
       "0               Result uses average median sales overall and finds the max average,\\n                   result alternative uses the max median without any averaging  \n",
       "1                Result uses average median sales overall and finds the max average,\\n                  result alternative uses the max median without any averaging  \n",
       "2                Result uses average median sales overall and finds the min average,\\n                  result alternative uses the min median without any averaging  \n",
       "3                Result uses average median sales overall and finds the min average,\\n                  result alternative uses the min median without any averaging  \n",
       "4  Result uses average inventory overall for each state and finds the max average,\\n                   result alternative uses the max overall without any averaging  "
      ]
     },
     "execution_count": 11,
     "metadata": {},
     "output_type": "execute_result"
    }
   ],
   "source": [
    "curs.execute(\"SHOW columns FROM Query_results\")\n",
    "result2_headers = [column[0] for column in curs.fetchall()]\n",
    "\n",
    "curs.execute(\"SELECT * FROM Query_results;\")\n",
    "result2 = pd.DataFrame(curs.fetchall(), columns=result2_headers)\n",
    "\n",
    "result2.head()"
   ]
  },
  {
   "cell_type": "markdown",
   "id": "5e677cc8-67f3-4f5e-a599-6b631836942f",
   "metadata": {
    "pycharm": {
     "name": "#%% md\n"
    }
   },
   "source": [
    "This confirms that data from the MySQL database can be retrieved correctly."
   ]
  }
 ],
 "metadata": {
  "kernelspec": {
   "display_name": "Python 3.10.6 ('base')",
   "language": "python",
   "name": "python3"
  },
  "language_info": {
   "codemirror_mode": {
    "name": "ipython",
    "version": 3
   },
   "file_extension": ".py",
   "mimetype": "text/x-python",
   "name": "python",
   "nbconvert_exporter": "python",
   "pygments_lexer": "ipython3",
   "version": "3.10.6"
  },
  "vscode": {
   "interpreter": {
    "hash": "d4d1e4263499bec80672ea0156c357c1ee493ec2b1c70f0acce89fc37c4a6abe"
   }
  }
 },
 "nbformat": 4,
 "nbformat_minor": 5
}
